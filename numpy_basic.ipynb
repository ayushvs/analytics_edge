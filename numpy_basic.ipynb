{
 "cells": [
  {
   "cell_type": "markdown",
   "metadata": {},
   "source": [
    "# importing numpy and array formation "
   ]
  },
  {
   "cell_type": "markdown",
   "metadata": {},
   "source": [
    "numpy library can be used to convert list to arrays of multidimensions and work with them."
   ]
  },
  {
   "cell_type": "code",
   "execution_count": 1,
   "metadata": {
    "scrolled": true
   },
   "outputs": [
    {
     "name": "stdout",
     "output_type": "stream",
     "text": [
      "<class 'numpy.ndarray'>\n",
      "(3,)\n"
     ]
    }
   ],
   "source": [
    "import numpy as np \n",
    "\n",
    "a = np.array([1,2,3]) #creating an array using np and array function . this takes a list\n",
    "print(type(a)) #this is an array from numpy\n",
    "print(a.shape) \n"
   ]
  },
  {
   "cell_type": "code",
   "execution_count": 2,
   "metadata": {},
   "outputs": [
    {
     "name": "stdout",
     "output_type": "stream",
     "text": [
      "1 2 3\n"
     ]
    }
   ],
   "source": [
    "print(a[0] , a[1], a[2]) #individual nubers in array"
   ]
  },
  {
   "cell_type": "code",
   "execution_count": 3,
   "metadata": {},
   "outputs": [
    {
     "name": "stdout",
     "output_type": "stream",
     "text": [
      "[25  2  3]\n"
     ]
    }
   ],
   "source": [
    "a[0] = 5*5\n",
    "print(a)"
   ]
  },
  {
   "cell_type": "markdown",
   "metadata": {},
   "source": [
    "# multple dimension array"
   ]
  },
  {
   "cell_type": "markdown",
   "metadata": {},
   "source": [
    "the above exapmle was 1d array. \n",
    "similarily we can have nd array"
   ]
  },
  {
   "cell_type": "code",
   "execution_count": 5,
   "metadata": {},
   "outputs": [
    {
     "name": "stdout",
     "output_type": "stream",
     "text": [
      "<class 'numpy.ndarray'>\n",
      "(2, 3)\n"
     ]
    }
   ],
   "source": [
    "b = np.array([[1,2,3] ,[-1,-2,-3]]) #remember here to use 2 time [] brackets\n",
    "print(type(b))                      #we created a 2*3 array. 2rows and 3 columns\n",
    "print(b.shape)"
   ]
  },
  {
   "cell_type": "code",
   "execution_count": 6,
   "metadata": {},
   "outputs": [
    {
     "name": "stdout",
     "output_type": "stream",
     "text": [
      "[[ 1  2  3]\n",
      " [-1 -2 -3]]\n"
     ]
    }
   ],
   "source": [
    "print(b)"
   ]
  },
  {
   "cell_type": "code",
   "execution_count": 7,
   "metadata": {},
   "outputs": [
    {
     "name": "stdout",
     "output_type": "stream",
     "text": [
      "1\n",
      "-3\n"
     ]
    }
   ],
   "source": [
    "#taking individuals just as indexing\n",
    "print(b[0,0])\n",
    "print(b[1,2])"
   ]
  },
  {
   "cell_type": "markdown",
   "metadata": {},
   "source": [
    "# special array"
   ]
  },
  {
   "cell_type": "markdown",
   "metadata": {},
   "source": [
    "now numpy has the ability to create certain special arrays on its own.\n",
    "these are shown below"
   ]
  },
  {
   "cell_type": "code",
   "execution_count": 15,
   "metadata": {},
   "outputs": [
    {
     "name": "stdout",
     "output_type": "stream",
     "text": [
      "a:\t [[0. 0.]\n",
      " [0. 0.]]\n",
      "b:\t [[0. 0.]\n",
      " [0. 0.]\n",
      " [0. 0.]\n",
      " [0. 0.]\n",
      " [0. 0.]]\n",
      "c:\t [[1. 1. 1. 1.]\n",
      " [1. 1. 1. 1.]\n",
      " [1. 1. 1. 1.]]\n",
      "d:\t [[7 7]\n",
      " [7 7]]\n",
      "e:\t [[1. 0.]\n",
      " [0. 1.]]\n",
      "f:\t [[0.77999924 0.09383504]\n",
      " [0.694162   0.29402476]]\n"
     ]
    }
   ],
   "source": [
    "a = np.zeros((2,2))    #create a 2*2 array with all elements as 0\n",
    "print('a:\\t', a)\n",
    "\n",
    "b= np.zeros((5,2))\n",
    "print('b:\\t',b)\n",
    "\n",
    "\n",
    "c= np.ones((3,4)) #all elements 1\n",
    "print('c:\\t',c)\n",
    "\n",
    "\n",
    "d = np.full((2,2),7)  #creates a 2*2 array with all elements being constant as 7\n",
    "print('d:\\t',d)\n",
    "\n",
    "\n",
    "e = np.eye(2)   #create a 2*2 identity array. only need to give 2 and not just 2*2\n",
    "print('e:\\t' ,e)\n",
    "\n",
    "\n",
    "f = np.random.random((2,2)) #create by taking random numbers\n",
    "print('f:\\t',f)"
   ]
  },
  {
   "cell_type": "markdown",
   "metadata": {},
   "source": [
    "# slicing in array"
   ]
  },
  {
   "cell_type": "code",
   "execution_count": 19,
   "metadata": {},
   "outputs": [
    {
     "name": "stdout",
     "output_type": "stream",
     "text": [
      "[[ 0  1  2  3]\n",
      " [ 4  5  6  7]\n",
      " [ 8  9 10 11]]\n",
      "[[1 2]\n",
      " [5 6]]\n",
      "[[ 1  2]\n",
      " [ 5 12]]\n",
      "[[ 0  1  2  3]\n",
      " [ 4  5 12  7]\n",
      " [ 8  9 10 11]]\n"
     ]
    }
   ],
   "source": [
    "import numpy as np\n",
    "\n",
    "a = np.array([[0,1,2,3],[4,5,6,7],[8,9,10,11]]) #3*4 array\n",
    "print(a)\n",
    "\n",
    "# slicing a the array and taking it in another array \n",
    "# taking 2*2 from a array.\n",
    "# 1,2\n",
    "# 5,6\n",
    "b = a[:2 ,1:3]\n",
    "print(b)\n",
    "\n",
    "\n",
    "\n",
    "#one important thing to remember is that changing any element of b will also change a\n",
    "#as b is just a active subset of a\n",
    "b[1,1] = 12\n",
    "print(b)\n",
    "\n",
    "print(a)"
   ]
  },
  {
   "cell_type": "markdown",
   "metadata": {},
   "source": [
    "another way  of indeing and explanation about shape and rank"
   ]
  },
  {
   "cell_type": "code",
   "execution_count": 23,
   "metadata": {},
   "outputs": [
    {
     "name": "stdout",
     "output_type": "stream",
     "text": [
      "[4 5 6 7]\n",
      "[[4 5 6 7]]\n",
      "(4,)\n",
      "(1, 4)\n"
     ]
    }
   ],
   "source": [
    "import numpy as np\n",
    "\n",
    "a = np.array([[0,1,2,3],[4,5,6,7],[8,9,10,11]])\n",
    "\n",
    "#suppose we want to take 2nd row all elements\n",
    "a1 = a[1,:]\n",
    "print(a1)\n",
    "\n",
    "a2 = a[1:2,:]\n",
    "print(a2)\n",
    "\n",
    "print(a1.shape)\n",
    "print(a2.shape)"
   ]
  },
  {
   "cell_type": "markdown",
   "metadata": {},
   "source": [
    "if we notice that shpae of a1 and a2, we notice difference as (4,) and (1,4)\n",
    "this (4,) indicates al lower rank\n",
    "(1,4) indicates a higher rank"
   ]
  },
  {
   "cell_type": "code",
   "execution_count": 24,
   "metadata": {},
   "outputs": [
    {
     "name": "stdout",
     "output_type": "stream",
     "text": [
      "[1 5 9]\n",
      "(2, 2)\n",
      "[[1]\n",
      " [5]\n",
      " [9]]\n",
      "(3, 1)\n"
     ]
    }
   ],
   "source": [
    "#similarily for column\n",
    "#taking 2nd column\n",
    "\n",
    "b1 = a[:,1 ]\n",
    "print(b1)\n",
    "print(b.shape)\n",
    "\n",
    "b2 = a[:,1:2]\n",
    "print(b2)\n",
    "print(b2.shape)\n"
   ]
  },
  {
   "cell_type": "markdown",
   "metadata": {},
   "source": [
    "# integer array indexing and slicing"
   ]
  },
  {
   "cell_type": "code",
   "execution_count": 27,
   "metadata": {},
   "outputs": [
    {
     "name": "stdout",
     "output_type": "stream",
     "text": [
      "[[ 0  1  2  3]\n",
      " [ 4  5  6  7]\n",
      " [ 8  9 10 11]]\n",
      "[1 6 9]\n"
     ]
    }
   ],
   "source": [
    "#slicing\n",
    "import numpy as np\n",
    "a = np.array([[0,1,2,3],[4,5,6,7],[8,9,10,11]])\n",
    "print(a)\n",
    "\n",
    "#slicing is using simple [:,:]\n",
    "#suppose we want [1,6,9]\n",
    "\n",
    "a1 =np.array([a[0,1],a[1,2],a[2,1]])\n",
    "print(a1)"
   ]
  },
  {
   "cell_type": "markdown",
   "metadata": {},
   "source": [
    "integer indexing is done in a diffrent way"
   ]
  },
  {
   "cell_type": "code",
   "execution_count": 29,
   "metadata": {},
   "outputs": [
    {
     "name": "stdout",
     "output_type": "stream",
     "text": [
      "[1 6 9]\n"
     ]
    }
   ],
   "source": [
    "b1 = a[[0,1,2],[1,2,1]]\n",
    "print(b1)\n",
    "#the first [0,1,2] indicates the rows from which we want to take elements, here it is row 0,1,2\n",
    "#the second [1,2,1] indicates the column from which the elemt has to be taken"
   ]
  },
  {
   "cell_type": "code",
   "execution_count": 30,
   "metadata": {},
   "outputs": [
    {
     "name": "stdout",
     "output_type": "stream",
     "text": [
      "[1 1]\n"
     ]
    }
   ],
   "source": [
    "#suppose we want 2,2 from a\n",
    "b2 = a[[0,0],[1,1]]\n",
    "print(b2)"
   ]
  },
  {
   "cell_type": "markdown",
   "metadata": {},
   "source": [
    "another way of doing this "
   ]
  },
  {
   "cell_type": "code",
   "execution_count": 32,
   "metadata": {},
   "outputs": [
    {
     "name": "stdout",
     "output_type": "stream",
     "text": [
      "[[ 0  1  2  3]\n",
      " [ 4  5  6  7]\n",
      " [ 8  9 10 11]\n",
      " [12 13 41 15]]\n"
     ]
    }
   ],
   "source": [
    "a = np.array([[0,1,2,3],[4,5,6,7],[8,9,10,11],[12,13,41,15]])\n",
    "print(a)"
   ]
  },
  {
   "cell_type": "code",
   "execution_count": 40,
   "metadata": {},
   "outputs": [
    {
     "name": "stdout",
     "output_type": "stream",
     "text": [
      "[ 2  5 11 41]\n",
      "[ 2  5 11 41]\n"
     ]
    }
   ],
   "source": [
    "#if we want 2,5,11,41 through integer indexing\n",
    "#1st way\n",
    "\n",
    "a1 = a[[0,1,2,3],[2,1,3,2]]\n",
    "print(a1)\n",
    "\n",
    "#2nd way\n",
    "#instead of using [0,1,2,3] we can use [np.arange(4)]  which will gives us same result\n",
    "#and instead of [2,1,3,2] we can create an array b and use b\n",
    "\n",
    "b = np.array([2,1,3,2])\n",
    "\n",
    "a2 = a[np.arange(4),b]\n",
    "print(a2)"
   ]
  },
  {
   "cell_type": "markdown",
   "metadata": {},
   "source": [
    "# mutting elements"
   ]
  },
  {
   "cell_type": "code",
   "execution_count": 41,
   "metadata": {},
   "outputs": [
    {
     "name": "stdout",
     "output_type": "stream",
     "text": [
      "[[ 0  1  2  3]\n",
      " [ 4  5  6  7]\n",
      " [ 8  9 10 11]\n",
      " [12 13 41 15]]\n",
      "[[ 0  1 12  3]\n",
      " [ 4 15  6  7]\n",
      " [ 8 19 10 11]\n",
      " [12 13 41 25]]\n"
     ]
    }
   ],
   "source": [
    "a = np.array([[0,1,2,3],[4,5,6,7],[8,9,10,11],[12,13,41,15]])\n",
    "print(a)\n",
    "\n",
    "b =np.array([2,1,1,3])\n",
    "\n",
    "\n",
    "a[np.arange(4),b] += 10\n",
    "\n",
    "print(a)"
   ]
  },
  {
   "cell_type": "markdown",
   "metadata": {},
   "source": [
    "# boolean array indexing"
   ]
  },
  {
   "cell_type": "code",
   "execution_count": 46,
   "metadata": {},
   "outputs": [
    {
     "name": "stdout",
     "output_type": "stream",
     "text": [
      "[[0 1]\n",
      " [2 3]\n",
      " [4 5]]\n",
      "[[False False]\n",
      " [False  True]\n",
      " [ True  True]]\n",
      "[3 4 5]\n",
      "[3 4 5]\n"
     ]
    }
   ],
   "source": [
    "#we can use booleans to construct a array from another array\n",
    "\n",
    "a = np.array([[0,1],[2,3],[4,5]])\n",
    "print(a)\n",
    "\n",
    "#we form an aray from boolean with a condition\n",
    "\n",
    "b1 = (a>2)\n",
    "print(b1) #this gives the same dimension array with true or false\n",
    "\n",
    "#now we use this b1 to construct a 1d array\n",
    "\n",
    "a1 = a[b1]\n",
    "print(a1)\n",
    "\n",
    "#this can be dne in one step\n",
    "print(a[(a>2)])"
   ]
  },
  {
   "cell_type": "markdown",
   "metadata": {},
   "source": [
    "# Datatypes"
   ]
  },
  {
   "cell_type": "markdown",
   "metadata": {},
   "source": [
    "when we form an array, it itself determines the datatypes f the array\n",
    "we can also tell the program tomuse the particular data types"
   ]
  },
  {
   "cell_type": "code",
   "execution_count": 49,
   "metadata": {},
   "outputs": [
    {
     "name": "stdout",
     "output_type": "stream",
     "text": [
      "int32\n",
      "float64\n",
      "int64\n"
     ]
    }
   ],
   "source": [
    "import numpy as n\n",
    "\n",
    "a = np.array([1,2])\n",
    "print(a.dtype)\n",
    "\n",
    "b = np.array([1.0,2.0])\n",
    "print(b.dtype)\n",
    "\n",
    "#we can change the dattype on our owns\n",
    "\n",
    "a1 = np.array([1,2] ,dtype = np.int64)\n",
    "print(a1.dtype)"
   ]
  },
  {
   "cell_type": "markdown",
   "metadata": {},
   "source": [
    "# math operation\n",
    "basi math operation array can be performed either through operator or function in numpy"
   ]
  },
  {
   "cell_type": "code",
   "execution_count": 58,
   "metadata": {},
   "outputs": [
    {
     "name": "stdout",
     "output_type": "stream",
     "text": [
      "[[ 6  8]\n",
      " [ 3 11]]\n",
      "[[ 6  8]\n",
      " [ 3 11]]\n",
      "[[-4 -4]\n",
      " [ 3 -3]]\n",
      "[[-4 -4]\n",
      " [ 3 -3]]\n",
      "[[ 5 12]\n",
      " [ 0 28]]\n",
      "[[ 5 12]\n",
      " [ 0 28]]\n",
      "[[0.2        0.33333333]\n",
      " [       inf 0.57142857]]\n",
      "[[0.2        0.33333333]\n",
      " [       inf 0.57142857]]\n",
      "[[1.         1.41421356]\n",
      " [1.73205081 2.        ]]\n"
     ]
    },
    {
     "name": "stderr",
     "output_type": "stream",
     "text": [
      "C:\\ProgramData\\Anaconda3\\lib\\site-packages\\ipykernel_launcher.py:13: RuntimeWarning: divide by zero encountered in true_divide\n",
      "  del sys.path[0]\n",
      "C:\\ProgramData\\Anaconda3\\lib\\site-packages\\ipykernel_launcher.py:14: RuntimeWarning: divide by zero encountered in true_divide\n",
      "  \n"
     ]
    }
   ],
   "source": [
    "a =np.array([[1,2],[3,4]])\n",
    "b =np.array([[5,6],[0,7]])\n",
    "\n",
    "print(a+b) #using operator\n",
    "print(np.add(a,b)) #using np.add function in numpy\n",
    "\n",
    "print(a-b)\n",
    "print(np.subtract(a,b))\n",
    "\n",
    "#the multiplicati here is elementwise multiplication and not matrix multipliaction\n",
    "print(a*b)\n",
    "print(np.multiply(a,b))\n",
    "\n",
    "print(a/b)\n",
    "print(np.divide(a,b))\n",
    "\n",
    "print(np.sqrt(a))"
   ]
  },
  {
   "cell_type": "code",
   "execution_count": null,
   "metadata": {},
   "outputs": [],
   "source": []
  }
 ],
 "metadata": {
  "kernelspec": {
   "display_name": "Python 3",
   "language": "python",
   "name": "python3"
  },
  "language_info": {
   "codemirror_mode": {
    "name": "ipython",
    "version": 3
   },
   "file_extension": ".py",
   "mimetype": "text/x-python",
   "name": "python",
   "nbconvert_exporter": "python",
   "pygments_lexer": "ipython3",
   "version": "3.7.3"
  }
 },
 "nbformat": 4,
 "nbformat_minor": 2
}
